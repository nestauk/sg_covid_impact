{
 "cells": [
  {
   "cell_type": "code",
   "execution_count": 41,
   "metadata": {},
   "outputs": [
    {
     "name": "stdout",
     "output_type": "stream",
     "text": [
      "The autoreload extension is already loaded. To reload it, use:\n",
      "  %reload_ext autoreload\n"
     ]
    }
   ],
   "source": [
    "# Modelling\n",
    "\n",
    "%run ../notebook_preamble.ipy\n",
    "\n",
    "import pandas as pd\n",
    "import numpy as np\n",
    "import altair as alt\n",
    "import sg_covid_impact\n",
    "from sg_covid_impact.secondary_data import read_secondary\n",
    "from sg_covid_impact.descriptive import (\n",
    "    read_official,\n",
    "    read_claimant_counts,claimant_count_norm,read_search_trends,make_exposure_shares,\n",
    "                                         search_trend_norm,make_high_exposure,rank_sector_exposures,\n",
    "                                        make_exposure_shares_detailed)\n",
    "from sg_covid_impact.make_sic_division import extract_sic_code_description,load_sic_taxonomy\n",
    "from sg_covid_impact.diversification import (\n",
    "    load_predicted,extract_sectors,extract_network,make_diversification_options,make_sector_space_base)\n",
    "\n",
    "project_dir = sg_covid_impact.project_dir\n"
   ]
  },
  {
   "cell_type": "code",
   "execution_count": 102,
   "metadata": {},
   "outputs": [],
   "source": [
    "def make_exposure_share_variable(exposure_thres=7):\n",
    "\n",
    "    logging.info(\"Calculating sector exposure\")\n",
    "    exposures_ranked = make_sector_exposure_table()  \n",
    "\n",
    "    logging.info(\"Calculating local exposure shares\")\n",
    "    exposure_lad_codes = make_local_exposure_table(exposures_ranked)\n",
    "    \n",
    "    logging.info(f\"Calculating high exposure shares level {exposure_thres}\")\n",
    "    exposure_high = (make_high_exposure(exposure_lad_codes,geo='geo_cd',\n",
    "                                       level=exposure_thres)\n",
    "                     .assign(variable='exposure_share')\n",
    "                     .rename(columns={'share':'value'}))\n",
    "    \n",
    "    return exposure_high\n",
    "\n",
    "def make_sector_exposure_table():\n",
    "    \n",
    "    d = read_search_trends()\n",
    "    trends_normalised = search_trend_norm(d)\n",
    "    exposures_ranked = rank_sector_exposures(trends_normalised,'division')\n",
    "    \n",
    "    return exposures_ranked\n",
    "\n",
    "def make_local_exposure_table(exposures_ranked):\n",
    "    \n",
    "    bres = read_official()\n",
    "    exposure_levels = exposures_ranked.merge(bres,left_on='division',right_on='division')\n",
    "    exposure_lad_codes = make_exposure_shares(exposure_levels,'geo_cd')\n",
    "    return exposure_lad_codes\n",
    "\n",
    "\n",
    "def make_div_share_variable(exposure_level = 7, div_level = 3):\n",
    "    \n",
    "    _DIVISION_NAME_LOOKUP = extract_sic_code_description(load_sic_taxonomy(), \"Division\")\n",
    "    \n",
    "    logging.info(\"Calculating sector exposure\")\n",
    "    exposures_ranked = make_sector_exposure_table()\n",
    "    division_month_exposure_dict = exposures_ranked.set_index(['division','month'])['rank'].to_dict()\n",
    "\n",
    "    logging.info(\"Making sector space\")\n",
    "    my_divisions = list(set(exposures_ranked['division']))\n",
    "    pr = load_predicted()\n",
    "    pr_selected = pr[my_divisions]\n",
    "    t = extract_sectors(pr_selected,0.5)\n",
    "    \n",
    "    div_space = extract_network(t)\n",
    "    p,g,l = make_sector_space_base(sector_space=div_space,extra_edges=70)\n",
    "    \n",
    "    \n",
    "    logging.info(\"Calculating local exposure shares\")\n",
    "    bres = read_official()\n",
    "    exposure_levels = exposures_ranked.merge(bres,left_on='division',right_on='division')\n",
    "    exposure_levels['division_name'] = exposure_levels['division'].map(_DIVISION_NAME_LOOKUP)\n",
    "    exposure_shares_detailed = make_exposure_shares_detailed(exposure_levels,geo='geo_cd')\n",
    "    \n",
    "    logging.info(\"Calculating diversification share rankings\")\n",
    "    monthly_diversification_rankings = pd.concat([\n",
    "        (make_diversification_options(\n",
    "            g,division_month_exposure_dict,m,range(exposure_level,10),[0,1,2,3])\n",
    "     .sort_values('mean',ascending=False)\n",
    "     .assign(divers_ranking = lambda x: pd.qcut(-x['mean'],q=np.arange(0,1.1,0.25),labels=False))\n",
    "     .assign(month=m)) for m in range(3,11)])\n",
    "    \n",
    "    # Merge with diversification information\n",
    "    logging.info(f\"Calculating diversification shares level {str(div_level)}\")\n",
    "    diversification_lad_detailed = (exposure_levels\n",
    "                                    .merge(monthly_diversification_rankings,\n",
    "                                      left_on=['division','month'],\n",
    "                                      right_on=['division','month'],\n",
    "                                      how='outer'))\n",
    "\n",
    "    diversification_lad_detailed['divers_ranking'] = (diversification_lad_detailed\n",
    "                                                      ['divers_ranking']\n",
    "                                                      .fillna('Less exposed'))\n",
    "    \n",
    "    diversification_shares = (make_exposure_shares(\n",
    "        diversification_lad_detailed,geography='geo_cd',variable='divers_ranking')\n",
    "                              .query(f\"divers_ranking == {div_level}\")\n",
    "                              .assign(variable='low_diversification_share')\n",
    "                              .drop(axis=1,labels=['value'])\n",
    "                              .rename(columns={'share':'value'})[\n",
    "                                  ['month','geo_cd','variable','value']]).reset_index(drop=True)\n",
    "    \n",
    "    return diversification_shares\n",
    "    \n",
    "def make_claimant_count_variable():\n",
    "    '''\n",
    "    '''\n",
    "    cl = read_claimant_counts()\n",
    "    cl_count = (cl\n",
    "            .query(\"measure_name=='Claimants as a proportion of residents aged 16-64'\")\n",
    "            [['geography_code','month','obs_value']]\n",
    "            .assign(variable='cl_count')\n",
    "            .rename(columns={'obs_value':'value',\n",
    "                            'geography_code':'geo_cd'}))\n",
    "    \n",
    "    cl_norm_ = claimant_count_norm(cl)\n",
    "    \n",
    "    cl_norm = (cl_norm_[['geography_code','month','cl_norm']]\n",
    "           .rename(columns={'geography_code':'geo_cd',\n",
    "                           'cl_norm':'value'})\n",
    "           .assign(variable='cl_count_norm'))\n",
    "    \n",
    "    return pd.concat([cl_count,cl_norm])\n",
    "    \n",
    "def make_secondary_variables():\n",
    "    \n",
    "    secondary = read_secondary()\n",
    "    \n",
    "    secondary_out = (secondary\n",
    "                     .rename(columns={'geography_code':'geo_cd'})\n",
    "                     [['geo_cd','variable','value']])\n",
    "    \n",
    "    return secondary_out\n",
    "    "
   ]
  },
  {
   "cell_type": "code",
   "execution_count": 106,
   "metadata": {},
   "outputs": [
    {
     "name": "stdout",
     "output_type": "stream",
     "text": [
      "2021-01-10 13:14:14,918 - root - INFO - Calculating sector exposure\n",
      "2021-01-10 13:14:17,918 - root - INFO - Calculating local exposure shares\n",
      "2021-01-10 13:14:22,832 - root - INFO - Calculating high exposure shares level 7\n"
     ]
    }
   ],
   "source": [
    "exp = make_exposure_share_variable()"
   ]
  },
  {
   "cell_type": "code",
   "execution_count": 69,
   "metadata": {},
   "outputs": [
    {
     "name": "stdout",
     "output_type": "stream",
     "text": [
      "2021-01-10 12:59:49,456 - root - INFO - Calculating sector exposure\n",
      "2021-01-10 12:59:52,245 - root - INFO - Making sector space\n",
      "2021-01-10 13:00:15,949 - root - INFO - Calculating local exposure shares\n",
      "2021-01-10 13:00:37,971 - root - INFO - Calculating diversification share rankings\n",
      "2021-01-10 13:00:38,053 - root - INFO - Calculating diversification shares level 3\n"
     ]
    }
   ],
   "source": [
    "div = make_div_share_variable()"
   ]
  },
  {
   "cell_type": "code",
   "execution_count": 94,
   "metadata": {},
   "outputs": [],
   "source": [
    "cl = make_claimant_count_variable()"
   ]
  },
  {
   "cell_type": "code",
   "execution_count": 103,
   "metadata": {},
   "outputs": [],
   "source": [
    "secondary = make_secondary_variables()"
   ]
  },
  {
   "cell_type": "code",
   "execution_count": 234,
   "metadata": {},
   "outputs": [],
   "source": [
    "short_secondary_titles = {'% with NVQ4+ - aged 16-64':'% tertiary',\n",
    "                          '% with no qualifications (NVQ) - aged 16-64':'% no qual',\n",
    "                          '% with other qualifications (NVQ) - aged 16-64':'% other qual',\n",
    "                          'Annual pay - gross':'Gross annual pay',\n",
    "                          'Economic activity rate - aged 16-64':'Econ Activity rate',\n",
    "                          'Employment rate - aged 16-64': 'Emp rate',\n",
    "                          'cl_count':'Claimant count',\n",
    "                          'cl_count_norm':'Claimant (normalised)',\n",
    "                          'smd_high_deprivation_share':'SMDI'}\n",
    "\n",
    "sort_vars = ['Claimant count','Claimant (normalised)','Econ activity rate','Emp rate','Gross annual pay',\n",
    "             '% tertiary','% no qual']"
   ]
  },
  {
   "cell_type": "code",
   "execution_count": 239,
   "metadata": {},
   "outputs": [],
   "source": [
    "### Visualise relationships between variables\n",
    "\n",
    "web_vars = [exp,div]\n",
    "other_vars = [cl,secondary]\n",
    "\n",
    "out = []\n",
    "\n",
    "for w in web_vars:\n",
    "    for o in other_vars:\n",
    "        if 'month' in o.columns:\n",
    "            for v in set(o['variable']):\n",
    "                for m in set(w['month']):\n",
    "                    my_w = w.query(f\"month=={m}\")\n",
    "                    my_o = (o\n",
    "                            .query(f\"month=={m}\")\n",
    "                            .query(f\"variable == '{v}'\"))\n",
    "                    merg = my_w.merge(my_o,on='geo_cd')\n",
    "                    my_v_name = list(set(w['variable']))[0]\n",
    "                    corr = np.float(merg[['value_x','value_y']].corr().iloc[0,1])\n",
    "                    res = pd.Series([my_v_name,v,m,corr],index=['primary','secondary','month','corr'])\n",
    "                    out.append(res)\n",
    "        else:\n",
    "            for v in set(o['variable']):\n",
    "                for m in set(w['month']):\n",
    "                    my_w = w.query(f\"month=={m}\")\n",
    "                    my_o = (o\n",
    "                            .query(f\"variable == '{v}'\"))\n",
    "                    merg = my_w.merge(my_o,on='geo_cd')\n",
    "                    my_v_name = list(set(w['variable']))[0]\n",
    "                    corr = np.float(merg[['value_x','value_y']].corr().iloc[0,1])\n",
    "                    res = pd.Series([my_v_name,v,m,corr],index=['primary','secondary','month','corr'])\n",
    "                    out.append(res)\n",
    "                    \n",
    "correlation_df = pd.DataFrame(out)  \n",
    "\n",
    "correlation_df = (correlation_df\n",
    "                  .assign(secondary_short = lambda x: x['secondary'].map(short_secondary_titles)))\n",
    "correlation_df= correlation_df.loc[~correlation_df['secondary_short'].isin(['% other qual','SMDI',\n",
    "                                                                           'Econ Activity rate'])]"
   ]
  },
  {
   "cell_type": "code",
   "execution_count": 287,
   "metadata": {},
   "outputs": [],
   "source": [
    "ch = (alt.Chart(correlation_df)\n",
    "      .mark_point(filled=True)\n",
    "      .encode(\n",
    "      x='month',\n",
    "      y='corr',\n",
    "      facet=alt.Facet('secondary_short',columns=2,\n",
    "                  sort=sort_vars,\n",
    "                  header=alt.Header(labelAngle=0,labelAnchor='start',\n",
    "                                                     labelOrient='top')),\n",
    "      color='primary',\n",
    "      shape='primary')).properties(width=300,height=50)"
   ]
  },
  {
   "cell_type": "code",
   "execution_count": 288,
   "metadata": {},
   "outputs": [
    {
     "data": {
      "text/html": [
       "\n",
       "<div id=\"altair-viz-ea8274efa3a84fad90690b85bc2846b5\"></div>\n",
       "<script type=\"text/javascript\">\n",
       "  (function(spec, embedOpt){\n",
       "    let outputDiv = document.currentScript.previousElementSibling;\n",
       "    if (outputDiv.id !== \"altair-viz-ea8274efa3a84fad90690b85bc2846b5\") {\n",
       "      outputDiv = document.getElementById(\"altair-viz-ea8274efa3a84fad90690b85bc2846b5\");\n",
       "    }\n",
       "    const paths = {\n",
       "      \"vega\": \"https://cdn.jsdelivr.net/npm//vega@5?noext\",\n",
       "      \"vega-lib\": \"https://cdn.jsdelivr.net/npm//vega-lib?noext\",\n",
       "      \"vega-lite\": \"https://cdn.jsdelivr.net/npm//vega-lite@4.8.1?noext\",\n",
       "      \"vega-embed\": \"https://cdn.jsdelivr.net/npm//vega-embed@6?noext\",\n",
       "    };\n",
       "\n",
       "    function loadScript(lib) {\n",
       "      return new Promise(function(resolve, reject) {\n",
       "        var s = document.createElement('script');\n",
       "        s.src = paths[lib];\n",
       "        s.async = true;\n",
       "        s.onload = () => resolve(paths[lib]);\n",
       "        s.onerror = () => reject(`Error loading script: ${paths[lib]}`);\n",
       "        document.getElementsByTagName(\"head\")[0].appendChild(s);\n",
       "      });\n",
       "    }\n",
       "\n",
       "    function showError(err) {\n",
       "      outputDiv.innerHTML = `<div class=\"error\" style=\"color:red;\">${err}</div>`;\n",
       "      throw err;\n",
       "    }\n",
       "\n",
       "    function displayChart(vegaEmbed) {\n",
       "      vegaEmbed(outputDiv, spec, embedOpt)\n",
       "        .catch(err => showError(`Javascript Error: ${err.message}<br>This usually means there's a typo in your chart specification. See the javascript console for the full traceback.`));\n",
       "    }\n",
       "\n",
       "    if(typeof define === \"function\" && define.amd) {\n",
       "      requirejs.config({paths});\n",
       "      require([\"vega-embed\"], displayChart, err => showError(`Error loading script: ${err.message}`));\n",
       "    } else if (typeof vegaEmbed === \"function\") {\n",
       "      displayChart(vegaEmbed);\n",
       "    } else {\n",
       "      loadScript(\"vega\")\n",
       "        .then(() => loadScript(\"vega-lite\"))\n",
       "        .then(() => loadScript(\"vega-embed\"))\n",
       "        .catch(showError)\n",
       "        .then(() => displayChart(vegaEmbed));\n",
       "    }\n",
       "  })({\"config\": {\"view\": {\"continuousWidth\": 400, \"continuousHeight\": 300}}, \"data\": {\"name\": \"data-923b3f98020666c144e9edd497264b1b\"}, \"mark\": {\"type\": \"point\", \"filled\": true}, \"encoding\": {\"color\": {\"type\": \"nominal\", \"field\": \"primary\"}, \"facet\": {\"type\": \"nominal\", \"columns\": 2, \"field\": \"secondary_short\", \"header\": {\"labelAnchor\": \"start\", \"labelAngle\": 0, \"labelOrient\": \"top\"}, \"sort\": [\"Claimant count\", \"Claimant (normalised)\", \"Econ activity rate\", \"Emp rate\", \"Gross annual pay\", \"% tertiary\", \"% no qual\"]}, \"shape\": {\"type\": \"nominal\", \"field\": \"primary\"}, \"x\": {\"type\": \"quantitative\", \"field\": \"month\"}, \"y\": {\"type\": \"quantitative\", \"field\": \"corr\"}}, \"height\": 50, \"width\": 300, \"$schema\": \"https://vega.github.io/schema/vega-lite/v4.8.1.json\", \"datasets\": {\"data-923b3f98020666c144e9edd497264b1b\": [{\"primary\": \"exposure_share\", \"secondary\": \"cl_count_norm\", \"month\": 1, \"corr\": -0.047353855949078996, \"secondary_short\": \"Claimant (normalised)\"}, {\"primary\": \"exposure_share\", \"secondary\": \"cl_count_norm\", \"month\": 2, \"corr\": -0.08055980792331445, \"secondary_short\": \"Claimant (normalised)\"}, {\"primary\": \"exposure_share\", \"secondary\": \"cl_count_norm\", \"month\": 3, \"corr\": -0.12439935524725437, \"secondary_short\": \"Claimant (normalised)\"}, {\"primary\": \"exposure_share\", \"secondary\": \"cl_count_norm\", \"month\": 4, \"corr\": 0.33983065653767625, \"secondary_short\": \"Claimant (normalised)\"}, {\"primary\": \"exposure_share\", \"secondary\": \"cl_count_norm\", \"month\": 5, \"corr\": 0.07811478780972697, \"secondary_short\": \"Claimant (normalised)\"}, {\"primary\": \"exposure_share\", \"secondary\": \"cl_count_norm\", \"month\": 6, \"corr\": -0.013867573228923506, \"secondary_short\": \"Claimant (normalised)\"}, {\"primary\": \"exposure_share\", \"secondary\": \"cl_count_norm\", \"month\": 7, \"corr\": -0.03516475849964925, \"secondary_short\": \"Claimant (normalised)\"}, {\"primary\": \"exposure_share\", \"secondary\": \"cl_count_norm\", \"month\": 8, \"corr\": 0.038438457462283554, \"secondary_short\": \"Claimant (normalised)\"}, {\"primary\": \"exposure_share\", \"secondary\": \"cl_count_norm\", \"month\": 9, \"corr\": 0.0824815343073899, \"secondary_short\": \"Claimant (normalised)\"}, {\"primary\": \"exposure_share\", \"secondary\": \"cl_count_norm\", \"month\": 10, \"corr\": 0.13724656741168598, \"secondary_short\": \"Claimant (normalised)\"}, {\"primary\": \"exposure_share\", \"secondary\": \"cl_count\", \"month\": 1, \"corr\": 0.059555403815503435, \"secondary_short\": \"Claimant count\"}, {\"primary\": \"exposure_share\", \"secondary\": \"cl_count\", \"month\": 2, \"corr\": 0.037434377203341106, \"secondary_short\": \"Claimant count\"}, {\"primary\": \"exposure_share\", \"secondary\": \"cl_count\", \"month\": 3, \"corr\": -0.2034387117789508, \"secondary_short\": \"Claimant count\"}, {\"primary\": \"exposure_share\", \"secondary\": \"cl_count\", \"month\": 4, \"corr\": -0.005365817371243324, \"secondary_short\": \"Claimant count\"}, {\"primary\": \"exposure_share\", \"secondary\": \"cl_count\", \"month\": 5, \"corr\": -0.014101761531298987, \"secondary_short\": \"Claimant count\"}, {\"primary\": \"exposure_share\", \"secondary\": \"cl_count\", \"month\": 6, \"corr\": 0.08119645992804, \"secondary_short\": \"Claimant count\"}, {\"primary\": \"exposure_share\", \"secondary\": \"cl_count\", \"month\": 7, \"corr\": -0.014315947046098844, \"secondary_short\": \"Claimant count\"}, {\"primary\": \"exposure_share\", \"secondary\": \"cl_count\", \"month\": 8, \"corr\": 0.018791333711562726, \"secondary_short\": \"Claimant count\"}, {\"primary\": \"exposure_share\", \"secondary\": \"cl_count\", \"month\": 9, \"corr\": -0.08648879353779164, \"secondary_short\": \"Claimant count\"}, {\"primary\": \"exposure_share\", \"secondary\": \"cl_count\", \"month\": 10, \"corr\": -0.03006964254567537, \"secondary_short\": \"Claimant count\"}, {\"primary\": \"exposure_share\", \"secondary\": \"% with no qualifications (NVQ) - aged 16-64\", \"month\": 1, \"corr\": 0.037525913776650426, \"secondary_short\": \"% no qual\"}, {\"primary\": \"exposure_share\", \"secondary\": \"% with no qualifications (NVQ) - aged 16-64\", \"month\": 2, \"corr\": 0.06849458533495091, \"secondary_short\": \"% no qual\"}, {\"primary\": \"exposure_share\", \"secondary\": \"% with no qualifications (NVQ) - aged 16-64\", \"month\": 3, \"corr\": -0.11359499819080424, \"secondary_short\": \"% no qual\"}, {\"primary\": \"exposure_share\", \"secondary\": \"% with no qualifications (NVQ) - aged 16-64\", \"month\": 4, \"corr\": -0.04433961867764815, \"secondary_short\": \"% no qual\"}, {\"primary\": \"exposure_share\", \"secondary\": \"% with no qualifications (NVQ) - aged 16-64\", \"month\": 5, \"corr\": -0.04095539667691397, \"secondary_short\": \"% no qual\"}, {\"primary\": \"exposure_share\", \"secondary\": \"% with no qualifications (NVQ) - aged 16-64\", \"month\": 6, \"corr\": 0.050356540389215894, \"secondary_short\": \"% no qual\"}, {\"primary\": \"exposure_share\", \"secondary\": \"% with no qualifications (NVQ) - aged 16-64\", \"month\": 7, \"corr\": -0.04994708486750367, \"secondary_short\": \"% no qual\"}, {\"primary\": \"exposure_share\", \"secondary\": \"% with no qualifications (NVQ) - aged 16-64\", \"month\": 8, \"corr\": -0.03355219571060562, \"secondary_short\": \"% no qual\"}, {\"primary\": \"exposure_share\", \"secondary\": \"% with no qualifications (NVQ) - aged 16-64\", \"month\": 9, \"corr\": -0.11647800412615018, \"secondary_short\": \"% no qual\"}, {\"primary\": \"exposure_share\", \"secondary\": \"% with no qualifications (NVQ) - aged 16-64\", \"month\": 10, \"corr\": -0.07055703146906579, \"secondary_short\": \"% no qual\"}, {\"primary\": \"exposure_share\", \"secondary\": \"Employment rate - aged 16-64\", \"month\": 1, \"corr\": -0.18975484097626436, \"secondary_short\": \"Emp rate\"}, {\"primary\": \"exposure_share\", \"secondary\": \"Employment rate - aged 16-64\", \"month\": 2, \"corr\": 0.06189613999125271, \"secondary_short\": \"Emp rate\"}, {\"primary\": \"exposure_share\", \"secondary\": \"Employment rate - aged 16-64\", \"month\": 3, \"corr\": 0.20464762758639402, \"secondary_short\": \"Emp rate\"}, {\"primary\": \"exposure_share\", \"secondary\": \"Employment rate - aged 16-64\", \"month\": 4, \"corr\": 0.06809372060577876, \"secondary_short\": \"Emp rate\"}, {\"primary\": \"exposure_share\", \"secondary\": \"Employment rate - aged 16-64\", \"month\": 5, \"corr\": -0.013275425615747856, \"secondary_short\": \"Emp rate\"}, {\"primary\": \"exposure_share\", \"secondary\": \"Employment rate - aged 16-64\", \"month\": 6, \"corr\": -0.17601336926607686, \"secondary_short\": \"Emp rate\"}, {\"primary\": \"exposure_share\", \"secondary\": \"Employment rate - aged 16-64\", \"month\": 7, \"corr\": 0.009448469201498855, \"secondary_short\": \"Emp rate\"}, {\"primary\": \"exposure_share\", \"secondary\": \"Employment rate - aged 16-64\", \"month\": 8, \"corr\": -0.006782224003205304, \"secondary_short\": \"Emp rate\"}, {\"primary\": \"exposure_share\", \"secondary\": \"Employment rate - aged 16-64\", \"month\": 9, \"corr\": -0.05019404193687469, \"secondary_short\": \"Emp rate\"}, {\"primary\": \"exposure_share\", \"secondary\": \"Employment rate - aged 16-64\", \"month\": 10, \"corr\": 0.019422865052485475, \"secondary_short\": \"Emp rate\"}, {\"primary\": \"exposure_share\", \"secondary\": \"Annual pay - gross\", \"month\": 1, \"corr\": -0.006717349863109457, \"secondary_short\": \"Gross annual pay\"}, {\"primary\": \"exposure_share\", \"secondary\": \"Annual pay - gross\", \"month\": 2, \"corr\": -0.19378292691917928, \"secondary_short\": \"Gross annual pay\"}, {\"primary\": \"exposure_share\", \"secondary\": \"Annual pay - gross\", \"month\": 3, \"corr\": -0.04637680043320834, \"secondary_short\": \"Gross annual pay\"}, {\"primary\": \"exposure_share\", \"secondary\": \"Annual pay - gross\", \"month\": 4, \"corr\": -0.20265782476567218, \"secondary_short\": \"Gross annual pay\"}, {\"primary\": \"exposure_share\", \"secondary\": \"Annual pay - gross\", \"month\": 5, \"corr\": -0.082112418442818, \"secondary_short\": \"Gross annual pay\"}, {\"primary\": \"exposure_share\", \"secondary\": \"Annual pay - gross\", \"month\": 6, \"corr\": -0.07843180238117876, \"secondary_short\": \"Gross annual pay\"}, {\"primary\": \"exposure_share\", \"secondary\": \"Annual pay - gross\", \"month\": 7, \"corr\": 0.1356137144653347, \"secondary_short\": \"Gross annual pay\"}, {\"primary\": \"exposure_share\", \"secondary\": \"Annual pay - gross\", \"month\": 8, \"corr\": 0.26153466534384456, \"secondary_short\": \"Gross annual pay\"}, {\"primary\": \"exposure_share\", \"secondary\": \"Annual pay - gross\", \"month\": 9, \"corr\": 0.03565223174645078, \"secondary_short\": \"Gross annual pay\"}, {\"primary\": \"exposure_share\", \"secondary\": \"Annual pay - gross\", \"month\": 10, \"corr\": -0.0892472065598037, \"secondary_short\": \"Gross annual pay\"}, {\"primary\": \"exposure_share\", \"secondary\": \"% with NVQ4+ - aged 16-64\", \"month\": 1, \"corr\": 0.0170783994481037, \"secondary_short\": \"% tertiary\"}, {\"primary\": \"exposure_share\", \"secondary\": \"% with NVQ4+ - aged 16-64\", \"month\": 2, \"corr\": -0.32808085375059326, \"secondary_short\": \"% tertiary\"}, {\"primary\": \"exposure_share\", \"secondary\": \"% with NVQ4+ - aged 16-64\", \"month\": 3, \"corr\": -0.13257020163703315, \"secondary_short\": \"% tertiary\"}, {\"primary\": \"exposure_share\", \"secondary\": \"% with NVQ4+ - aged 16-64\", \"month\": 4, \"corr\": -0.15859684602627327, \"secondary_short\": \"% tertiary\"}, {\"primary\": \"exposure_share\", \"secondary\": \"% with NVQ4+ - aged 16-64\", \"month\": 5, \"corr\": 0.01624273682304634, \"secondary_short\": \"% tertiary\"}, {\"primary\": \"exposure_share\", \"secondary\": \"% with NVQ4+ - aged 16-64\", \"month\": 6, \"corr\": 0.04775016806160663, \"secondary_short\": \"% tertiary\"}, {\"primary\": \"exposure_share\", \"secondary\": \"% with NVQ4+ - aged 16-64\", \"month\": 7, \"corr\": 0.0015911235767570046, \"secondary_short\": \"% tertiary\"}, {\"primary\": \"exposure_share\", \"secondary\": \"% with NVQ4+ - aged 16-64\", \"month\": 8, \"corr\": 0.288129380915728, \"secondary_short\": \"% tertiary\"}, {\"primary\": \"exposure_share\", \"secondary\": \"% with NVQ4+ - aged 16-64\", \"month\": 9, \"corr\": 0.08040570666377604, \"secondary_short\": \"% tertiary\"}, {\"primary\": \"exposure_share\", \"secondary\": \"% with NVQ4+ - aged 16-64\", \"month\": 10, \"corr\": -0.003961133974443883, \"secondary_short\": \"% tertiary\"}, {\"primary\": \"low_diversification_share\", \"secondary\": \"cl_count_norm\", \"month\": 3, \"corr\": 0.05397524477467312, \"secondary_short\": \"Claimant (normalised)\"}, {\"primary\": \"low_diversification_share\", \"secondary\": \"cl_count_norm\", \"month\": 4, \"corr\": 0.05869308247489725, \"secondary_short\": \"Claimant (normalised)\"}, {\"primary\": \"low_diversification_share\", \"secondary\": \"cl_count_norm\", \"month\": 5, \"corr\": 0.09879500779581639, \"secondary_short\": \"Claimant (normalised)\"}, {\"primary\": \"low_diversification_share\", \"secondary\": \"cl_count_norm\", \"month\": 6, \"corr\": 0.050217849586555716, \"secondary_short\": \"Claimant (normalised)\"}, {\"primary\": \"low_diversification_share\", \"secondary\": \"cl_count_norm\", \"month\": 7, \"corr\": 0.08366849350076754, \"secondary_short\": \"Claimant (normalised)\"}, {\"primary\": \"low_diversification_share\", \"secondary\": \"cl_count_norm\", \"month\": 8, \"corr\": 0.18321291930189404, \"secondary_short\": \"Claimant (normalised)\"}, {\"primary\": \"low_diversification_share\", \"secondary\": \"cl_count_norm\", \"month\": 9, \"corr\": 0.17691796450709787, \"secondary_short\": \"Claimant (normalised)\"}, {\"primary\": \"low_diversification_share\", \"secondary\": \"cl_count_norm\", \"month\": 10, \"corr\": 0.4536652593353917, \"secondary_short\": \"Claimant (normalised)\"}, {\"primary\": \"low_diversification_share\", \"secondary\": \"cl_count\", \"month\": 3, \"corr\": -0.3307665704469715, \"secondary_short\": \"Claimant count\"}, {\"primary\": \"low_diversification_share\", \"secondary\": \"cl_count\", \"month\": 4, \"corr\": -0.21949737449645967, \"secondary_short\": \"Claimant count\"}, {\"primary\": \"low_diversification_share\", \"secondary\": \"cl_count\", \"month\": 5, \"corr\": -0.16184654200835097, \"secondary_short\": \"Claimant count\"}, {\"primary\": \"low_diversification_share\", \"secondary\": \"cl_count\", \"month\": 6, \"corr\": -0.07689696683868245, \"secondary_short\": \"Claimant count\"}, {\"primary\": \"low_diversification_share\", \"secondary\": \"cl_count\", \"month\": 7, \"corr\": -0.13399045644220126, \"secondary_short\": \"Claimant count\"}, {\"primary\": \"low_diversification_share\", \"secondary\": \"cl_count\", \"month\": 8, \"corr\": -0.15598385480671956, \"secondary_short\": \"Claimant count\"}, {\"primary\": \"low_diversification_share\", \"secondary\": \"cl_count\", \"month\": 9, \"corr\": -0.06850151463545101, \"secondary_short\": \"Claimant count\"}, {\"primary\": \"low_diversification_share\", \"secondary\": \"cl_count\", \"month\": 10, \"corr\": -0.20713228089399274, \"secondary_short\": \"Claimant count\"}, {\"primary\": \"low_diversification_share\", \"secondary\": \"% with no qualifications (NVQ) - aged 16-64\", \"month\": 3, \"corr\": -0.20221595467019102, \"secondary_short\": \"% no qual\"}, {\"primary\": \"low_diversification_share\", \"secondary\": \"% with no qualifications (NVQ) - aged 16-64\", \"month\": 4, \"corr\": -0.15558410163903943, \"secondary_short\": \"% no qual\"}, {\"primary\": \"low_diversification_share\", \"secondary\": \"% with no qualifications (NVQ) - aged 16-64\", \"month\": 5, \"corr\": -0.2077344624808275, \"secondary_short\": \"% no qual\"}, {\"primary\": \"low_diversification_share\", \"secondary\": \"% with no qualifications (NVQ) - aged 16-64\", \"month\": 6, \"corr\": -0.0924483092797387, \"secondary_short\": \"% no qual\"}, {\"primary\": \"low_diversification_share\", \"secondary\": \"% with no qualifications (NVQ) - aged 16-64\", \"month\": 7, \"corr\": -0.10500274192033796, \"secondary_short\": \"% no qual\"}, {\"primary\": \"low_diversification_share\", \"secondary\": \"% with no qualifications (NVQ) - aged 16-64\", \"month\": 8, \"corr\": -0.2077344624808275, \"secondary_short\": \"% no qual\"}, {\"primary\": \"low_diversification_share\", \"secondary\": \"% with no qualifications (NVQ) - aged 16-64\", \"month\": 9, \"corr\": -0.12431364306613026, \"secondary_short\": \"% no qual\"}, {\"primary\": \"low_diversification_share\", \"secondary\": \"% with no qualifications (NVQ) - aged 16-64\", \"month\": 10, \"corr\": -0.32132395862752505, \"secondary_short\": \"% no qual\"}, {\"primary\": \"low_diversification_share\", \"secondary\": \"Employment rate - aged 16-64\", \"month\": 3, \"corr\": 0.33024617972808584, \"secondary_short\": \"Emp rate\"}, {\"primary\": \"low_diversification_share\", \"secondary\": \"Employment rate - aged 16-64\", \"month\": 4, \"corr\": 0.29580223315330345, \"secondary_short\": \"Emp rate\"}, {\"primary\": \"low_diversification_share\", \"secondary\": \"Employment rate - aged 16-64\", \"month\": 5, \"corr\": 0.2024723050364363, \"secondary_short\": \"Emp rate\"}, {\"primary\": \"low_diversification_share\", \"secondary\": \"Employment rate - aged 16-64\", \"month\": 6, \"corr\": -0.051248794909674225, \"secondary_short\": \"Emp rate\"}, {\"primary\": \"low_diversification_share\", \"secondary\": \"Employment rate - aged 16-64\", \"month\": 7, \"corr\": 0.1462807301015959, \"secondary_short\": \"Emp rate\"}, {\"primary\": \"low_diversification_share\", \"secondary\": \"Employment rate - aged 16-64\", \"month\": 8, \"corr\": 0.2024723050364363, \"secondary_short\": \"Emp rate\"}, {\"primary\": \"low_diversification_share\", \"secondary\": \"Employment rate - aged 16-64\", \"month\": 9, \"corr\": -0.06633662584549123, \"secondary_short\": \"Emp rate\"}, {\"primary\": \"low_diversification_share\", \"secondary\": \"Employment rate - aged 16-64\", \"month\": 10, \"corr\": 0.25237708410574605, \"secondary_short\": \"Emp rate\"}, {\"primary\": \"low_diversification_share\", \"secondary\": \"Annual pay - gross\", \"month\": 3, \"corr\": 0.17781934742060088, \"secondary_short\": \"Gross annual pay\"}, {\"primary\": \"low_diversification_share\", \"secondary\": \"Annual pay - gross\", \"month\": 4, \"corr\": 0.2382750885250513, \"secondary_short\": \"Gross annual pay\"}, {\"primary\": \"low_diversification_share\", \"secondary\": \"Annual pay - gross\", \"month\": 5, \"corr\": 0.4255684187018641, \"secondary_short\": \"Gross annual pay\"}, {\"primary\": \"low_diversification_share\", \"secondary\": \"Annual pay - gross\", \"month\": 6, \"corr\": 0.20918789373158841, \"secondary_short\": \"Gross annual pay\"}, {\"primary\": \"low_diversification_share\", \"secondary\": \"Annual pay - gross\", \"month\": 7, \"corr\": 0.266150720685627, \"secondary_short\": \"Gross annual pay\"}, {\"primary\": \"low_diversification_share\", \"secondary\": \"Annual pay - gross\", \"month\": 8, \"corr\": 0.4255684187018641, \"secondary_short\": \"Gross annual pay\"}, {\"primary\": \"low_diversification_share\", \"secondary\": \"Annual pay - gross\", \"month\": 9, \"corr\": 0.09852510910049583, \"secondary_short\": \"Gross annual pay\"}, {\"primary\": \"low_diversification_share\", \"secondary\": \"Annual pay - gross\", \"month\": 10, \"corr\": 0.47876126491782195, \"secondary_short\": \"Gross annual pay\"}, {\"primary\": \"low_diversification_share\", \"secondary\": \"% with NVQ4+ - aged 16-64\", \"month\": 3, \"corr\": -0.018236273563659398, \"secondary_short\": \"% tertiary\"}, {\"primary\": \"low_diversification_share\", \"secondary\": \"% with NVQ4+ - aged 16-64\", \"month\": 4, \"corr\": 0.04310962807313274, \"secondary_short\": \"% tertiary\"}, {\"primary\": \"low_diversification_share\", \"secondary\": \"% with NVQ4+ - aged 16-64\", \"month\": 5, \"corr\": 0.35992966197701237, \"secondary_short\": \"% tertiary\"}, {\"primary\": \"low_diversification_share\", \"secondary\": \"% with NVQ4+ - aged 16-64\", \"month\": 6, \"corr\": 0.23407019622636155, \"secondary_short\": \"% tertiary\"}, {\"primary\": \"low_diversification_share\", \"secondary\": \"% with NVQ4+ - aged 16-64\", \"month\": 7, \"corr\": 0.19501597318643663, \"secondary_short\": \"% tertiary\"}, {\"primary\": \"low_diversification_share\", \"secondary\": \"% with NVQ4+ - aged 16-64\", \"month\": 8, \"corr\": 0.35992966197701237, \"secondary_short\": \"% tertiary\"}, {\"primary\": \"low_diversification_share\", \"secondary\": \"% with NVQ4+ - aged 16-64\", \"month\": 9, \"corr\": 0.18197975812089487, \"secondary_short\": \"% tertiary\"}, {\"primary\": \"low_diversification_share\", \"secondary\": \"% with NVQ4+ - aged 16-64\", \"month\": 10, \"corr\": 0.49863575192759546, \"secondary_short\": \"% tertiary\"}]}}, {\"mode\": \"vega-lite\"});\n",
       "</script>"
      ],
      "text/plain": [
       "alt.Chart(...)"
      ]
     },
     "execution_count": 288,
     "metadata": {},
     "output_type": "execute_result"
    }
   ],
   "source": [
    "ch"
   ]
  },
  {
   "cell_type": "code",
   "execution_count": null,
   "metadata": {},
   "outputs": [],
   "source": []
  }
 ],
 "metadata": {
  "kernelspec": {
   "display_name": "Python 3",
   "language": "python",
   "name": "python3"
  },
  "language_info": {
   "codemirror_mode": {
    "name": "ipython",
    "version": 3
   },
   "file_extension": ".py",
   "mimetype": "text/x-python",
   "name": "python",
   "nbconvert_exporter": "python",
   "pygments_lexer": "ipython3",
   "version": "3.8.6"
  }
 },
 "nbformat": 4,
 "nbformat_minor": 4
}
